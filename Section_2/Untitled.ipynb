{
 "cells": [
  {
   "cell_type": "code",
   "execution_count": 5,
   "id": "468e0b32-77d3-4c88-955b-2c2599cd6bc4",
   "metadata": {},
   "outputs": [
    {
     "name": "stdout",
     "output_type": "stream",
     "text": [
      "Please choose your album (invalid choice exits):\n",
      "1: Welcome to my Nightmare\n",
      "2: Bad Company\n",
      "3: Nightflight\n",
      "4: More Mayhem\n"
     ]
    },
    {
     "name": "stdin",
     "output_type": "stream",
     "text": [
      " 3\n"
     ]
    },
    {
     "name": "stdout",
     "output_type": "stream",
     "text": [
      "Please choose your song:\n",
      "1: I Turned to Stone\n",
      "2: Keeping a Rendezvous\n",
      "3: Reaper of the Glory\n",
      "4: She Used Me Up\n"
     ]
    },
    {
     "name": "stdin",
     "output_type": "stream",
     "text": [
      " 4\n"
     ]
    },
    {
     "name": "stdout",
     "output_type": "stream",
     "text": [
      "Playing She Used Me Up\n",
      "========================================\n",
      "Please choose your album (invalid choice exits):\n",
      "1: Welcome to my Nightmare\n",
      "2: Bad Company\n",
      "3: Nightflight\n",
      "4: More Mayhem\n"
     ]
    },
    {
     "name": "stdin",
     "output_type": "stream",
     "text": [
      " 5\n"
     ]
    }
   ],
   "source": [
    "from nested_data import albums\n",
    "\n",
    "SONGS_LIST_INDEX = 3\n",
    "SONG_TITLE_INDEX = 1\n",
    "\n",
    "while True:\n",
    "    print(\"Please choose your album (invalid choice exits):\")\n",
    "    for index, (title, artist, year, songs) in enumerate(albums):\n",
    "        print(\"{}: {}\".format(index + 1, title))\n",
    "\n",
    "    choice = int(input())\n",
    "    if 1 <= choice <= len(albums):\n",
    "        songs_list = albums[choice -1][SONGS_LIST_INDEX]\n",
    "    else:\n",
    "        break\n",
    "\n",
    "    print(\"Please choose your song:\")\n",
    "    for index, (track_number, song) in enumerate(songs_list):\n",
    "        print(\"{}: {}\".format(index + 1, song))\n",
    "\n",
    "    song_choice = int(input())\n",
    "    if 1 <= song_choice <= len(songs_list):\n",
    "        title = songs_list[song_choice - 1][SONG_TITLE_INDEX]\n",
    "    else:\n",
    "        break\n",
    "        \n",
    "    print(\"Playing {}\".format(title))\n",
    "    print(\"=\" * 40)"
   ]
  },
  {
   "cell_type": "code",
   "execution_count": null,
   "id": "befc62f4-a147-4666-9f89-be47e76c1eca",
   "metadata": {},
   "outputs": [],
   "source": []
  }
 ],
 "metadata": {
  "kernelspec": {
   "display_name": "Python 3.7",
   "language": "python",
   "name": "python3.7"
  },
  "language_info": {
   "codemirror_mode": {
    "name": "ipython",
    "version": 3
   },
   "file_extension": ".py",
   "mimetype": "text/x-python",
   "name": "python",
   "nbconvert_exporter": "python",
   "pygments_lexer": "ipython3",
   "version": "3.7.11"
  }
 },
 "nbformat": 4,
 "nbformat_minor": 5
}
